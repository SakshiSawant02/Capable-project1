{
 "cells": [
  {
   "cell_type": "code",
   "execution_count": 18,
   "id": "bebb035b",
   "metadata": {},
   "outputs": [
    {
     "name": "stdout",
     "output_type": "stream",
     "text": [
      " Simple Calculator\n",
      "Enter first number : 3\n",
      "Enter second number : 5\n",
      " your choice operation\n",
      " 1.Addition\n",
      " 2.Subtraction\n",
      " 3.Multiplication\n",
      " 4.Division 6\n",
      "choice is invalid\n"
     ]
    }
   ],
   "source": [
    "print(\" Simple Calculator\")\n",
    "a = float(input(\"Enter first number : \"))\n",
    "b = float(input(\"Enter second number : \"))\n",
    "operation = float(input(\" your choice operation\\n 1.Addition\\n 2.Subtraction\\n 3.Multiplication\\n 4.Division \"))\n",
    "\n",
    "if(operation==1):\n",
    "    print(\"Addition is :\",str(a+b))\n",
    "elif(operation==2):\n",
    "    print(\"Subtraction is :\",str(a-b))\n",
    "elif(operation==3):\n",
    "    print(\"Multiplication is :\",str(a*b))\n",
    "elif(operation==4):\n",
    "    print(\"Division is :\",str(a/b))\n",
    "else:\n",
    "    print(\"choice is invalid\")\n",
    "        "
   ]
  },
  {
   "cell_type": "code",
   "execution_count": null,
   "id": "86f01a32",
   "metadata": {},
   "outputs": [],
   "source": []
  },
  {
   "cell_type": "code",
   "execution_count": null,
   "id": "63969b95",
   "metadata": {},
   "outputs": [],
   "source": []
  }
 ],
 "metadata": {
  "kernelspec": {
   "display_name": "Python 3 (ipykernel)",
   "language": "python",
   "name": "python3"
  },
  "language_info": {
   "codemirror_mode": {
    "name": "ipython",
    "version": 3
   },
   "file_extension": ".py",
   "mimetype": "text/x-python",
   "name": "python",
   "nbconvert_exporter": "python",
   "pygments_lexer": "ipython3",
   "version": "3.11.5"
  }
 },
 "nbformat": 4,
 "nbformat_minor": 5
}
